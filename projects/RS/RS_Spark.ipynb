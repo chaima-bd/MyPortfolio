{
  "nbformat": 4,
  "nbformat_minor": 0,
  "metadata": {
    "colab": {
      "provenance": [],
      "gpuType": "T4"
    },
    "kernelspec": {
      "name": "python3",
      "display_name": "Python 3"
    },
    "language_info": {
      "name": "python"
    },
    "accelerator": "GPU"
  },
  "cells": [
    {
      "cell_type": "markdown",
      "source": [
        "# Practice: Big Data Recommender Systems with Spark :\n",
        "NAME : BOUABD CHAIMAA"
      ],
      "metadata": {
        "id": "R7xLD__7QBc_"
      }
    },
    {
      "cell_type": "markdown",
      "source": [
        "## Install pyspark"
      ],
      "metadata": {
        "id": "4RujQ6fbQDgW"
      }
    },
    {
      "cell_type": "code",
      "execution_count": 2,
      "metadata": {
        "colab": {
          "base_uri": "https://localhost:8080/"
        },
        "id": "x8_fK39pPLqK",
        "outputId": "604a64d2-e6d2-4aa6-97e9-0e03e202e1af"
      },
      "outputs": [
        {
          "output_type": "stream",
          "name": "stdout",
          "text": [
            "Collecting pyspark\n",
            "  Downloading pyspark-3.5.0.tar.gz (316.9 MB)\n",
            "\u001b[2K     \u001b[90m━━━━━━━━━━━━━━━━━━━━━━━━━━━━━━━━━━━━━━━━\u001b[0m \u001b[32m316.9/316.9 MB\u001b[0m \u001b[31m4.5 MB/s\u001b[0m eta \u001b[36m0:00:00\u001b[0m\n",
            "\u001b[?25h  Preparing metadata (setup.py) ... \u001b[?25l\u001b[?25hdone\n",
            "Requirement already satisfied: py4j==0.10.9.7 in /usr/local/lib/python3.10/dist-packages (from pyspark) (0.10.9.7)\n",
            "Building wheels for collected packages: pyspark\n",
            "  Building wheel for pyspark (setup.py) ... \u001b[?25l\u001b[?25hdone\n",
            "  Created wheel for pyspark: filename=pyspark-3.5.0-py2.py3-none-any.whl size=317425345 sha256=ac35a3bf076ff47b5bc608c9c2e33c9c31e7d353c2b62d22d0b1406f4fd30544\n",
            "  Stored in directory: /root/.cache/pip/wheels/41/4e/10/c2cf2467f71c678cfc8a6b9ac9241e5e44a01940da8fbb17fc\n",
            "Successfully built pyspark\n",
            "Installing collected packages: pyspark\n",
            "Successfully installed pyspark-3.5.0\n"
          ]
        }
      ],
      "source": [
        "pip install pyspark"
      ]
    },
    {
      "cell_type": "markdown",
      "source": [
        "## Step 1: Setting Up Your Spark Session and Load data"
      ],
      "metadata": {
        "id": "uUGYV2lSPQwg"
      }
    },
    {
      "cell_type": "code",
      "source": [
        "from pyspark.sql import SparkSession\n",
        "from pyspark.ml.recommendation import ALS\n",
        "\n",
        "spark = SparkSession.builder.appName(\"Recommender system\").getOrCreate()\n",
        "\n",
        "input_file_path = '/content/drive/MyDrive/movielens20m/rating.csv'\n",
        "\n",
        "data = spark.read.csv(input_file_path, header=True, inferSchema=True)\n",
        "\n",
        "(training, test) = data.randomSplit([0.8, 0.2])\n",
        "\n"
      ],
      "metadata": {
        "id": "s3yhOzKaPP6t"
      },
      "execution_count": 5,
      "outputs": []
    },
    {
      "cell_type": "markdown",
      "source": [
        "## STEP 3: : Building the Collaborative Filtering Recommender System with ALS\n"
      ],
      "metadata": {
        "id": "UjAzJeZWPWVv"
      }
    },
    {
      "cell_type": "code",
      "source": [
        "training = training.drop('timestamp')\n",
        "\n",
        "als = ALS(userCol=\"userId\", itemCol=\"movieId\", ratingCol=\"rating\", nonnegative=True, coldStartStrategy=\"drop\")\n",
        "\n",
        "model = als.fit(training)\n"
      ],
      "metadata": {
        "id": "tnPuG4ImPaea"
      },
      "execution_count": 6,
      "outputs": []
    },
    {
      "cell_type": "markdown",
      "source": [
        "## SETP 4: Generating Recommendations and Converting to Pandas DataFrames\n"
      ],
      "metadata": {
        "id": "riAv8UDSPho_"
      }
    },
    {
      "cell_type": "code",
      "source": [
        "userRecs = model.recommendForAllUsers(10)\n",
        "movieRecs = model.recommendForAllItems(10)\n",
        "\n",
        "userRecs_df = userRecs.toPandas()\n",
        "movieRecs_df = movieRecs.toPandas()\n"
      ],
      "metadata": {
        "id": "4YKLDKBTPhz-"
      },
      "execution_count": 7,
      "outputs": []
    },
    {
      "cell_type": "markdown",
      "source": [
        "## STEP 5: Store Recommendations in Files\n"
      ],
      "metadata": {
        "id": "PsXgQpg9P6S7"
      }
    },
    {
      "cell_type": "code",
      "source": [
        "\n",
        "userRecs_df.to_csv('user_recommendations.csv', index=False)\n",
        "movieRecs_df.to_csv('movie_recommendations.csv', index=False)"
      ],
      "metadata": {
        "id": "bqiaNNP_P6d5"
      },
      "execution_count": 8,
      "outputs": []
    }
  ]
}