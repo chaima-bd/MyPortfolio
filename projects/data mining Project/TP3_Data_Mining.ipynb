{
  "cells": [
    {
      "cell_type": "code",
      "execution_count": null,
      "metadata": {
        "colab": {
          "base_uri": "https://localhost:8080/"
        },
        "id": "AOyqqktogW3-",
        "outputId": "45591f24-80c7-40a6-a942-bb099d492696"
      },
      "outputs": [
        {
          "name": "stdout",
          "output_type": "stream",
          "text": [
            "hello\n"
          ]
        }
      ],
      "source": [
        "print(\"hello hbsjch\")"
      ]
    },
    {
      "cell_type": "markdown",
      "metadata": {
        "id": "h5bzZOnFgliq"
      },
      "source": [
        "# New Section"
      ]
    },
    {
      "cell_type": "code",
      "execution_count": 6,
      "metadata": {
        "colab": {
          "base_uri": "https://localhost:8080/"
        },
        "id": "37CmWFOF2NBW",
        "outputId": "23a22397-8a63-4d6d-9805-64fe1ddaae4b"
      },
      "outputs": [
        {
          "name": "stdout",
          "output_type": "stream",
          "text": [
            "    Notes\n",
            "0       3\n",
            "1      19\n",
            "2      10\n",
            "3      15\n",
            "4      14\n",
            "5      12\n",
            "6       9\n",
            "7       8\n",
            "8      11\n",
            "9      12\n",
            "10     11\n",
            "11     12\n",
            "12     13\n",
            "13     11\n",
            "14     14\n",
            "15     16\n"
          ]
        }
      ],
      "source": [
        "#observations = pnd.DataFrame ({ ' NOTES ': np.array([3 , 19 , 10 , 15 , 14 , 12 , 9 , 8 , 11,12 ,11 , 12 , 13 , 11, 14 , 16])})\n",
        "\n",
        "import pandas as pd\n",
        "import numpy as np\n",
        "\n",
        "# Création d'un tableau numpy avec les notes\n",
        "notes_array = np.array([3, 19, 10, 15, 14, 12, 9, 8, 11, 12, 11, 12, 13, 11, 14, 16])\n",
        "\n",
        "# Création d'un DataFrame avec la caractéristique \"Notes\"\n",
        "observations = pd.DataFrame({'Notes': notes_array})\n",
        "\n",
        "# Affichage du DataFrame\n",
        "print(observations)\n"
      ]
    },
    {
      "cell_type": "code",
      "execution_count": 7,
      "metadata": {
        "colab": {
          "base_uri": "https://localhost:8080/"
        },
        "id": "tO1iq9GOykYk",
        "outputId": "4a61d877-5dae-4532-f33e-a28938ebb940"
      },
      "outputs": [
        {
          "name": "stdout",
          "output_type": "stream",
          "text": [
            "-- NOMBRE DE FEATURES --\n",
            "Nombre de features = 1\n"
          ]
        }
      ],
      "source": [
        "# Utilisation de la propriété shape pour obtenir le nombre de features (colonnes)\n",
        "nombre_features = observations.shape[1]\n",
        "\n",
        "print(\"-- NOMBRE DE FEATURES --\")\n",
        "print(\"Nombre de features =\", nombre_features)\n"
      ]
    },
    {
      "cell_type": "code",
      "execution_count": 8,
      "metadata": {
        "colab": {
          "base_uri": "https://localhost:8080/"
        },
        "id": "QEhQhVYby4Vf",
        "outputId": "4f0bce28-f253-43db-eb5f-a386cf7e72f0"
      },
      "outputs": [
        {
          "name": "stdout",
          "output_type": "stream",
          "text": [
            "\n",
            "-- MIN --\n",
            "Valeur minimale : 3\n",
            "\n",
            "-- MAX --\n",
            "Valeur maximale : 19\n"
          ]
        }
      ],
      "source": [
        "# Trier dans l'ordre croissant les différentes valeurs\n",
        "valeursTriees = observations['Notes'].sort_values()\n",
        "\n",
        "# Réindexer la liste\n",
        "valeursTriees = valeursTriees.reset_index(drop=True)\n",
        "\n",
        "# Obtenir la valeur minimale\n",
        "valeur_minimale = valeursTriees[0]\n",
        "print(\"\\n-- MIN --\")\n",
        "print(\"Valeur minimale : \" + str(valeur_minimale))\n",
        "\n",
        "# Obtenir la valeur maximale\n",
        "valeur_maximale = valeursTriees[len(valeursTriees) - 1]\n",
        "print(\"\\n-- MAX --\")\n",
        "print(\"Valeur maximale : \" + str(valeur_maximale))\n"
      ]
    },
    {
      "cell_type": "code",
      "execution_count": 9,
      "metadata": {
        "colab": {
          "base_uri": "https://localhost:8080/"
        },
        "id": "-akyW_rxy5_G",
        "outputId": "dff2224c-6c1e-41c6-871b-a42985955ce0"
      },
      "outputs": [
        {
          "name": "stdout",
          "output_type": "stream",
          "text": [
            "Moyenne arithmétique : 11.875\n"
          ]
        }
      ],
      "source": [
        "def calculMoyenneArithmetique(feature):\n",
        "    n = feature.count()\n",
        "    sommeValeursObservations = 0\n",
        "    moyenneArithmetique = 0\n",
        "\n",
        "    if n > 0:  # Vérifie si le nombre d'observations est supérieur à 0\n",
        "        for valeurObservation in feature:\n",
        "            sommeValeursObservations += valeurObservation\n",
        "        moyenneArithmetique = sommeValeursObservations / n  # Calcul de la moyenne\n",
        "\n",
        "    return moyenneArithmetique\n",
        "\n",
        "# Exemple d'utilisation de la fonction avec la colonne 'Notes' du DataFrame 'observations'\n",
        "moyenne = calculMoyenneArithmetique(observations['Notes'])\n",
        "print(\"Moyenne arithmétique : \" + str(moyenne))\n"
      ]
    },
    {
      "cell_type": "code",
      "execution_count": null,
      "metadata": {
        "id": "RhCpidTDzZz-"
      },
      "outputs": [],
      "source": [
        "def calculMediane(feature):\n",
        "    mediane = 0\n",
        "    feature = feature.sort_values()\n",
        "    feature = feature.reset_index(drop=True)\n",
        "    n = feature.count()\n",
        "    pair = False\n",
        "\n",
        "    if n % 2 == 0:\n",
        "        print(\"Le nombre d'observations est pair.\")\n",
        "        pair = True\n",
        "        rang = (n // 2)\n",
        "        rangPython = rang - 1\n",
        "        valeur1 = feature[rangPython]\n",
        "        valeur2 = feature[rangPython + 1]\n",
        "        mediane = valeur1 + ((valeur2 - valeur1) / 2)\n",
        "    else:\n",
        "        rang = ((n + 1) // 2)\n",
        "        rangPython = rang - 1\n",
        "        mediane = feature[rangPython]\n",
        "\n",
        "    return mediane\n",
        "\n",
        "# Exemple d'utilisation de la fonction avec la colonne 'Notes' du DataFrame 'observations'\n",
        "mediane = calculMediane(observations['Notes'])\n",
        "print(\"Médiane : \" + str(mediane))\n"
      ]
    },
    {
      "cell_type": "code",
      "execution_count": 10,
      "metadata": {
        "colab": {
          "base_uri": "https://localhost:8080/"
        },
        "id": "tvhNrEbMzsQJ",
        "outputId": "55d981f4-1d08-423c-ea41-805ea5a136f4"
      },
      "outputs": [
        {
          "name": "stdout",
          "output_type": "stream",
          "text": [
            "Fréquence de chaque valeur (mode) : Counter({12: 3, 11: 3, 14: 2, 3: 1, 19: 1, 10: 1, 15: 1, 9: 1, 8: 1, 13: 1, 16: 1})\n"
          ]
        }
      ],
      "source": [
        "from collections import Counter\n",
        "\n",
        "def calculMode(feature):\n",
        "    mode = Counter(feature)\n",
        "    return mode\n",
        "\n",
        "# Exemple d'utilisation de la fonction avec la colonne 'Notes' du DataFrame 'observations'\n",
        "resultat_mode = calculMode(observations['Notes'])\n",
        "print(\"Fréquence de chaque valeur (mode) : \" + str(resultat_mode))\n"
      ]
    },
    {
      "cell_type": "code",
      "execution_count": 11,
      "metadata": {
        "colab": {
          "base_uri": "https://localhost:8080/"
        },
        "id": "2VB_EP4Wz6Iy",
        "outputId": "e0857360-cf3d-453d-bd5d-e122863466a0"
      },
      "outputs": [
        {
          "name": "stdout",
          "output_type": "stream",
          "text": [
            "Étendue de la série : 16\n"
          ]
        }
      ],
      "source": [
        "def calculEtendue(feature):\n",
        "    valeursTriees = feature.sort_values().reset_index(drop=True)\n",
        "    etendue = valeursTriees[len(valeursTriees) - 1] - valeursTriees[0]\n",
        "    return etendue\n",
        "\n",
        "# Exemple d'utilisation de la fonction avec la colonne 'Notes' du DataFrame 'observations'\n",
        "etendue = calculEtendue(observations['Notes'])\n",
        "print(\"Étendue de la série : \" + str(etendue))\n"
      ]
    },
    {
      "cell_type": "code",
      "execution_count": 12,
      "metadata": {
        "colab": {
          "base_uri": "https://localhost:8080/",
          "height": 231
        },
        "id": "zaopXbjY0NbN",
        "outputId": "f8e77eb4-be03-4eb4-9e04-a8287cddd0e5"
      },
      "outputs": [
        {
          "ename": "NameError",
          "evalue": "ignored",
          "output_type": "error",
          "traceback": [
            "\u001b[0;31m---------------------------------------------------------------------------\u001b[0m",
            "\u001b[0;31mNameError\u001b[0m                                 Traceback (most recent call last)",
            "\u001b[0;32m<ipython-input-12-9062e5127e2e>\u001b[0m in \u001b[0;36m<cell line: 30>\u001b[0;34m()\u001b[0m\n\u001b[1;32m     28\u001b[0m \u001b[0;34m\u001b[0m\u001b[0m\n\u001b[1;32m     29\u001b[0m \u001b[0;31m# Exemple d'utilisation de la fonction avec la colonne 'Notes' du DataFrame 'observations'\u001b[0m\u001b[0;34m\u001b[0m\u001b[0;34m\u001b[0m\u001b[0m\n\u001b[0;32m---> 30\u001b[0;31m \u001b[0mquartiles\u001b[0m \u001b[0;34m=\u001b[0m \u001b[0mcalculDesQuartiles\u001b[0m\u001b[0;34m(\u001b[0m\u001b[0mobservations\u001b[0m\u001b[0;34m[\u001b[0m\u001b[0;34m'Notes'\u001b[0m\u001b[0;34m]\u001b[0m\u001b[0;34m,\u001b[0m \u001b[0mmediane\u001b[0m\u001b[0;34m,\u001b[0m \u001b[0mrangMediane\u001b[0m\u001b[0;34m)\u001b[0m\u001b[0;34m\u001b[0m\u001b[0;34m\u001b[0m\u001b[0m\n\u001b[0m\u001b[1;32m     31\u001b[0m \u001b[0mprint\u001b[0m\u001b[0;34m(\u001b[0m\u001b[0;34m\"Quartiles Q1, Q2 (médiane), Q3 : \"\u001b[0m \u001b[0;34m+\u001b[0m \u001b[0mstr\u001b[0m\u001b[0;34m(\u001b[0m\u001b[0mquartiles\u001b[0m\u001b[0;34m)\u001b[0m\u001b[0;34m)\u001b[0m\u001b[0;34m\u001b[0m\u001b[0;34m\u001b[0m\u001b[0m\n",
            "\u001b[0;31mNameError\u001b[0m: name 'mediane' is not defined"
          ]
        }
      ],
      "source": [
        "def calculDesQuartiles(feature, mediane, rangMediane):\n",
        "    n = feature.count()\n",
        "    sort_feature = feature.sort_values().reset_index(drop=True)\n",
        "    q1 = 0\n",
        "    q2 = mediane\n",
        "    q3 = 0\n",
        "\n",
        "    # Calcul Q1\n",
        "    if rangMediane % 2 != 0:\n",
        "        q1 = sort_feature[int((rangMediane / 2) + 1) - 1]\n",
        "    else:\n",
        "        valeurMin = sort_feature[int((rangMediane / 2) - 1)]\n",
        "        valeurMax = sort_feature[int(rangMediane / 2)]\n",
        "        q1 = (valeurMin + ((valeurMax - valeurMin) / 2) + valeurMax) / 2\n",
        "\n",
        "    # Calcul Q3\n",
        "    nbdonnees = len(sort_feature) + 1\n",
        "    nbDonneesDepuisMediane = nbdonnees - rangMediane\n",
        "\n",
        "    if nbDonneesDepuisMediane % 2 != 0:\n",
        "        q3 = sort_feature[int(rangMediane + ((nbDonneesDepuisMediane + 1) / 2)) - 1]\n",
        "    else:\n",
        "        valeurMinQ3 = sort_feature[int(rangMediane + (nbDonneesDepuisMediane / 2)) - 1]\n",
        "        valeurMaxQ3 = sort_feature[int(rangMediane + (nbDonneesDepuisMediane / 2))]\n",
        "        q3 = (valeurMinQ3 + ((valeurMaxQ3 - valeurMinQ3) / 2) + valeurMaxQ3) / 2\n",
        "\n",
        "    return [q1, q2, q3]\n",
        "\n",
        "# Exemple d'utilisation de la fonction avec la colonne 'Notes' du DataFrame 'observations'\n",
        "quartiles = calculDesQuartiles(observations['Notes'], mediane, rangMediane)\n",
        "print(\"Quartiles Q1, Q2 (médiane), Q3 : \" + str(quartiles))\n"
      ]
    },
    {
      "cell_type": "markdown",
      "metadata": {
        "id": "yavur1EmgcpT"
      },
      "source": [
        "# New Section"
      ]
    }
  ],
  "metadata": {
    "colab": {
      "provenance": []
    },
    "kernelspec": {
      "display_name": "Python 3",
      "name": "python3"
    },
    "language_info": {
      "name": "python"
    }
  },
  "nbformat": 4,
  "nbformat_minor": 0
}
