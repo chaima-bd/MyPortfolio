{
  "nbformat": 4,
  "nbformat_minor": 0,
  "metadata": {
    "colab": {
      "provenance": []
    },
    "kernelspec": {
      "name": "python3",
      "display_name": "Python 3"
    },
    "language_info": {
      "name": "python"
    }
  },
  "cells": [
    {
      "cell_type": "markdown",
      "source": [
        "# LAB 1 : Outils Statistiques\n"
      ],
      "metadata": {
        "id": "Y4zxC3ITK5UM"
      }
    },
    {
      "cell_type": "code",
      "source": [
        "#observations = pnd.DataFrame ({ ' NOTES ': np.array([3 , 19 , 10 , 15 , 14 , 12 , 9 , 8 , 11,12 ,11 , 12 , 13 , 11, 14 , 16])})\n",
        "\n",
        "import pandas as pd\n",
        "import numpy as np\n",
        "\n",
        "# Création d'un tableau numpy avec les notes\n",
        "notes_array = np.array([3, 19, 10, 15, 14, 12, 9, 8, 11, 12, 11, 12, 13, 11, 14, 16])\n",
        "\n",
        "# Création d'un DataFrame avec la caractéristique \"Notes\"\n",
        "observations = pd.DataFrame({'Notes': notes_array})\n",
        "\n",
        "# Affichage du DataFrame\n",
        "print(observations)\n"
      ],
      "metadata": {
        "colab": {
          "base_uri": "https://localhost:8080/"
        },
        "id": "37CmWFOF2NBW",
        "outputId": "69f6ec3e-b8fc-48cd-e48d-ab02b9b61ad8"
      },
      "execution_count": 9,
      "outputs": [
        {
          "output_type": "stream",
          "name": "stdout",
          "text": [
            "0      3\n",
            "1      8\n",
            "2      9\n",
            "3     10\n",
            "4     11\n",
            "5     11\n",
            "6     11\n",
            "7     12\n",
            "8     12\n",
            "9     12\n",
            "10    13\n",
            "11    14\n",
            "12    14\n",
            "13    15\n",
            "14    16\n",
            "15    19\n",
            "Name: Notes, dtype: int64\n"
          ]
        }
      ]
    },
    {
      "cell_type": "markdown",
      "source": [
        "# New Section"
      ],
      "metadata": {
        "id": "h5bzZOnFgliq"
      }
    },
    {
      "cell_type": "code",
      "source": [
        "# Utilisation de la propriété shape pour obtenir le nombre de features (colonnes)\n",
        "n = observations.shape[1]\n",
        "\n",
        "print(\"-- NOMBRE DE FEATURES --\")\n",
        "print(\"Nombre de features =\", n)\n"
      ],
      "metadata": {
        "colab": {
          "base_uri": "https://localhost:8080/"
        },
        "id": "tO1iq9GOykYk",
        "outputId": "0cc063ac-a136-4208-a20e-c66861c1260f"
      },
      "execution_count": 3,
      "outputs": [
        {
          "output_type": "stream",
          "name": "stdout",
          "text": [
            "-- NOMBRE DE FEATURES --\n",
            "Nombre de features = 1\n"
          ]
        }
      ]
    },
    {
      "cell_type": "code",
      "source": [
        "# Trier dans l'ordre croissant les différentes valeurs\n",
        "valeursTriees = observations['Notes'].sort_values()\n",
        "\n",
        "# Réindexer la liste\n",
        "valeursTriees = valeursTriees.reset_index(drop=True)\n",
        "\n",
        "# Obtenir la valeur minimale\n",
        "valeur_minimale = valeursTriees[0]\n",
        "print(\"\\n-- MIN --\")\n",
        "print(\"Valeur minimale : \" + str(valeur_minimale))\n",
        "\n",
        "# Obtenir la valeur maximale\n",
        "valeur_maximale = valeursTriees[len(valeursTriees) - 1]\n",
        "print(\"\\n-- MAX --\")\n",
        "print(\"Valeur maximale : \" + str(valeur_maximale))\n"
      ],
      "metadata": {
        "colab": {
          "base_uri": "https://localhost:8080/"
        },
        "id": "QEhQhVYby4Vf",
        "outputId": "6c31f319-f591-4e3a-8d63-694546bd242a"
      },
      "execution_count": 4,
      "outputs": [
        {
          "output_type": "stream",
          "name": "stdout",
          "text": [
            "\n",
            "-- MIN --\n",
            "Valeur minimale : 3\n",
            "\n",
            "-- MAX --\n",
            "Valeur maximale : 19\n"
          ]
        }
      ]
    },
    {
      "cell_type": "code",
      "source": [
        "def calculMoyenneArithmetique(feature):\n",
        "    n = feature.count()\n",
        "    sommeValeursObservations = 0\n",
        "    moyenneArithmetique = 0\n",
        "\n",
        "    if n > 0:  # Vérifie si le nombre d'observations est supérieur à 0\n",
        "        for valeurObservation in feature:\n",
        "            sommeValeursObservations += valeurObservation\n",
        "        moyenneArithmetique = sommeValeursObservations / n  # Calcul de la moyenne\n",
        "\n",
        "    return moyenneArithmetique\n",
        "\n",
        "# Exemple d'utilisation de la fonction avec la colonne 'Notes' du DataFrame 'observations'\n",
        "moyenne = calculMoyenneArithmetique(observations['Notes'])\n",
        "print(\"Moyenne arithmétique : \" + str(moyenne))\n"
      ],
      "metadata": {
        "colab": {
          "base_uri": "https://localhost:8080/"
        },
        "id": "-akyW_rxy5_G",
        "outputId": "b576cee5-5254-4bce-8bc5-dd327d538f6d"
      },
      "execution_count": 5,
      "outputs": [
        {
          "output_type": "stream",
          "name": "stdout",
          "text": [
            "Moyenne arithmétique : 11.875\n"
          ]
        }
      ]
    },
    {
      "cell_type": "code",
      "source": [
        "def calculMediane(feature):\n",
        "    mediane = 0\n",
        "    feature = feature.sort_values()\n",
        "    feature = feature.reset_index(drop=True)\n",
        "    n = feature.count()\n",
        "    pair = False\n",
        "\n",
        "    if n % 2 == 0:\n",
        "        print(\"Le nombre d'observations est pair.\")\n",
        "        pair = True\n",
        "        rang = (n // 2)\n",
        "        rangPython = rang - 1\n",
        "        valeur1 = feature[rangPython]\n",
        "        valeur2 = feature[rangPython + 1]\n",
        "        mediane = valeur1 + ((valeur2 - valeur1) / 2)\n",
        "    else:\n",
        "        rang = ((n + 1) // 2)\n",
        "        rangPython = rang - 1\n",
        "        mediane = feature[rangPython]\n",
        "\n",
        "    return mediane\n",
        "\n",
        "# Exemple d'utilisation de la fonction avec la colonne 'Notes' du DataFrame 'observations'\n",
        "mediane = calculMediane(observations['Notes'])\n",
        "print(\"Médiane : \" + str(mediane))\n"
      ],
      "metadata": {
        "id": "RhCpidTDzZz-",
        "colab": {
          "base_uri": "https://localhost:8080/"
        },
        "outputId": "a9b071a5-9f8c-4cd2-c68d-ad3f8adfae73"
      },
      "execution_count": 6,
      "outputs": [
        {
          "output_type": "stream",
          "name": "stdout",
          "text": [
            "Le nombre d'observations est pair.\n",
            "Médiane : 12.0\n"
          ]
        }
      ]
    },
    {
      "cell_type": "code",
      "source": [
        "from collections import Counter\n",
        "\n",
        "def calculMode(feature):\n",
        "    mode = Counter(feature)\n",
        "    return mode\n",
        "\n",
        "# Exemple d'utilisation de la fonction avec la colonne 'Notes' du DataFrame 'observations'\n",
        "resultat_mode = calculMode(observations['Notes'])\n",
        "print(\"Fréquence de chaque valeur (mode) : \" + str(resultat_mode))\n"
      ],
      "metadata": {
        "colab": {
          "base_uri": "https://localhost:8080/"
        },
        "id": "tvhNrEbMzsQJ",
        "outputId": "77ede484-9350-420e-e64c-8d01cd8daac4"
      },
      "execution_count": 7,
      "outputs": [
        {
          "output_type": "stream",
          "name": "stdout",
          "text": [
            "Fréquence de chaque valeur (mode) : Counter({12: 3, 11: 3, 14: 2, 3: 1, 19: 1, 10: 1, 15: 1, 9: 1, 8: 1, 13: 1, 16: 1})\n"
          ]
        }
      ]
    },
    {
      "cell_type": "code",
      "source": [],
      "metadata": {
        "id": "b8mdzNEBJtgE"
      },
      "execution_count": null,
      "outputs": []
    },
    {
      "cell_type": "code",
      "source": [
        "def calculEtendue(feature):\n",
        "    valeursTriees = feature.sort_values().reset_index(drop=True)\n",
        "    etendue = valeursTriees[len(valeursTriees) - 1] - valeursTriees[0]\n",
        "    return etendue\n",
        "\n",
        "# Exemple d'utilisation de la fonction avec la colonne 'Notes' du DataFrame 'observations'\n",
        "etendue = calculEtendue(observations['Notes'])\n",
        "print(\"Étendue de la série : \" + str(etendue))\n"
      ],
      "metadata": {
        "colab": {
          "base_uri": "https://localhost:8080/"
        },
        "id": "2VB_EP4Wz6Iy",
        "outputId": "be32ced5-b1bd-43ef-99c0-26e6d2e8902d"
      },
      "execution_count": 8,
      "outputs": [
        {
          "output_type": "stream",
          "name": "stdout",
          "text": [
            "Étendue de la série : 16\n"
          ]
        }
      ]
    },
    {
      "cell_type": "code",
      "source": [
        "import math\n",
        "\n",
        "def calculDesQuartiles(feature, mediane, rangMediane):\n",
        "    n = len(feature)\n",
        "\n",
        "    # Tri des valeurs dans l'ordre croissant\n",
        "    sorted_feature = sorted(feature)\n",
        "\n",
        "    # Calcul Q1\n",
        "    if rangMediane % 2 != 0:\n",
        "        q1 = sorted_feature[math.floor((rangMediane / 2))]\n",
        "    else:\n",
        "        valeurMinQ1 = sorted_feature[math.floor((rangMediane / 2) - 1)]\n",
        "        valeurMaxQ1 = sorted_feature[math.floor((rangMediane / 2))]\n",
        "        q1 = (valeurMinQ1 + valeurMaxQ1) / 2\n",
        "\n",
        "    # Calcul Q3\n",
        "    nbDonneesDepuisMediane = n - rangMediane + 1\n",
        "    if nbDonneesDepuisMediane % 2 != 0:\n",
        "        q3 = sorted_feature[rangMediane + math.ceil(nbDonneesDepuisMediane / 2) - 1]\n",
        "    else:\n",
        "        valeurMinQ3 = sorted_feature[rangMediane + math.floor(nbDonneesDepuisMediane / 2) - 1]\n",
        "        valeurMaxQ3 = sorted_feature[rangMediane + math.floor(nbDonneesDepuisMediane / 2)]\n",
        "        q3 = (valeurMinQ3 + valeurMaxQ3) / 2\n",
        "\n",
        "    return [q1, mediane, q3]\n",
        "\n",
        "# Exemple d'utilisation\n",
        "feature = [3, 19, 10, 15, 14, 12, 9, 8, 11, 12, 11, 12, 13, 11, 14, 16]\n",
        "mediane = 12  # Valeur de la médiane (dans votre exemple)\n",
        "rangMediane = 8  # Rang de la médiane (dans votre exemple)\n",
        "quartiles = calculDesQuartiles(feature, mediane, rangMediane)\n",
        "print(\"Quartiles Q1, Q2 (Médiane), Q3 :\", quartiles)\n"
      ],
      "metadata": {
        "colab": {
          "base_uri": "https://localhost:8080/"
        },
        "id": "zaopXbjY0NbN",
        "outputId": "14748a9c-1d6c-446e-e95c-c1285dc49fa0"
      },
      "execution_count": 10,
      "outputs": [
        {
          "output_type": "stream",
          "name": "stdout",
          "text": [
            "Quartiles Q1, Q2 (Médiane), Q3 : [10.5, 12, 14]\n"
          ]
        }
      ]
    },
    {
      "cell_type": "markdown",
      "source": [
        "# New Section"
      ],
      "metadata": {
        "id": "yavur1EmgcpT"
      }
    }
  ]
}